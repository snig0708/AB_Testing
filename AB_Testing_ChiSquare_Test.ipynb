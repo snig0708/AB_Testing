{
 "cells": [
  {
   "cell_type": "markdown",
   "metadata": {},
   "source": [
    "# A/B Testing using Chi - Square Test"
   ]
  },
  {
   "cell_type": "code",
   "execution_count": null,
   "metadata": {},
   "outputs": [],
   "source": [
    "# Implementing Chi Square Statistical Test for self-generated Click Through data for A/B Testing"
   ]
  },
  {
   "cell_type": "code",
   "execution_count": 60,
   "metadata": {},
   "outputs": [],
   "source": [
    "## There are a few questions we are trying to answer through this. \n",
    "# 1. How does the p-value change as we are collectig the sample?\n",
    "# 2. What are the drawbacks of using this particular statistical test."
   ]
  },
  {
   "cell_type": "code",
   "execution_count": 61,
   "metadata": {},
   "outputs": [],
   "source": [
    "import numpy as np\n",
    "import matplotlib.pyplot as plt\n",
    "from scipy.stats import chi2"
   ]
  },
  {
   "cell_type": "code",
   "execution_count": 62,
   "metadata": {},
   "outputs": [],
   "source": [
    "# p1: probability of clicks for Group-1\n",
    "# p2: probability of clicks for Group-2\n",
    "\n",
    "class DataGenerator:\n",
    "    def __init__(self, p1, p2):\n",
    "        self.p1 = p1\n",
    "        self.p2 = p2\n",
    "    def next(self):  # Returns the result of whether a person clicked on advertisement or not\n",
    "        click1 = 1 if (np.random.random() < self.p1) else 0\n",
    "        click2 = 1 if (np.random.random() < self.p2) else 0\n",
    "        return click1, click2\n",
    "\n",
    "\n",
    "def get_p_value(T):\n",
    "  # same as scipy.stats.chi2_contingency(T, correction=False)\n",
    "  det = T[0,0]*T[1,1] - T[0,1]*T[1,0] # Contingency table\n",
    "  c2 = float(det) / T[0].sum() * det / T[1].sum() * T.sum() / T[:,0].sum() / T[:,1].sum() #Chi Square Test Statistic\n",
    "  p = 1 - chi2.cdf(x=c2, df=1)\n",
    "  return p\n",
    "\n",
    "\n"
   ]
  },
  {
   "cell_type": "code",
   "execution_count": 63,
   "metadata": {},
   "outputs": [],
   "source": [
    "def run_experiment(p1,p2,N):\n",
    "    data = DataGenerator(p1, p2)\n",
    "    p_values = np.empty(N)                  # Intialize the array of p-values\n",
    "    T = np.zeros((2, 2)).astype(np.float32) # Initialize the contingency table\n",
    "    # loop for each trial\n",
    "    for i in range(N):\n",
    "        c1, c2 = data.next()\n",
    "        \n",
    "        # Update the contingency table\n",
    "        T[0,c1] += 1\n",
    "        T[1,c2] += 1\n",
    "        \n",
    "        # ignore the first 10 values\n",
    "        if i < 10:  #B'ce We can't get a proper p-value if the samples are too less\n",
    "          p_values[i] = None #Setting p_values to zero might not help us while calculating chi square test statistic\n",
    "        \n",
    "        else:\n",
    "          p_values[i] = get_p_value(T)\n",
    "    plt.plot(p_values) # plotting p-values\n",
    "    plt.plot(np.ones(N)*0.05) # plotting threshold\n",
    "    plt.show()\n",
    "        "
   ]
  },
  {
   "cell_type": "code",
   "execution_count": 64,
   "metadata": {},
   "outputs": [
    {
     "data": {
      "image/png": "[encoded data removed]",
      "text/plain": [
       "<Figure size 432x288 with 1 Axes>"
      ]
     },
     "metadata": {
      "needs_background": "light"
     },
     "output_type": "display_data"
    }
   ],
   "source": [
    "run_experiment(0.1, 0.11, 20000)"
   ]
  },
  {
   "cell_type": "code",
   "execution_count": 65,
   "metadata": {},
   "outputs": [],
   "source": [
    "# p-value looks problematic, (It's going below the threshold)"
   ]
  },
  {
   "cell_type": "code",
   "execution_count": null,
   "metadata": {},
   "outputs": [],
   "source": []
  },
  {
   "cell_type": "code",
   "execution_count": 66,
   "metadata": {},
   "outputs": [],
   "source": [
    "# Implementing Chi Square Statistical Test for certain available Click Through data for A/B Testing"
   ]
  },
  {
   "cell_type": "code",
   "execution_count": 67,
   "metadata": {},
   "outputs": [],
   "source": [
    "import numpy as np\n",
    "import pandas as pd\n",
    "from scipy.stats import chi2, chi2_contingency"
   ]
  },
  {
   "cell_type": "code",
   "execution_count": 68,
   "metadata": {},
   "outputs": [],
   "source": [
    "## To obtain p-value\n",
    "\n",
    "def get_p_value(T):\n",
    "    p = chi2_contingency(T, correction = False) # Calculates the Chi-Square Test Statistic\n",
    "    return p"
   ]
  },
  {
   "cell_type": "code",
   "execution_count": 69,
   "metadata": {},
   "outputs": [
    {
     "data": {
      "text/html": [
       "<div>\n",
       "<style scoped>\n",
       "    .dataframe tbody tr th:only-of-type {\n",
       "        vertical-align: middle;\n",
       "    }\n",
       "\n",
       "    .dataframe tbody tr th {\n",
       "        vertical-align: top;\n",
       "    }\n",
       "\n",
       "    .dataframe thead th {\n",
       "        text-align: right;\n",
       "    }\n",
       "</style>\n",
       "<table border=\"1\" class=\"dataframe\">\n",
       "  <thead>\n",
       "    <tr style=\"text-align: right;\">\n",
       "      <th></th>\n",
       "      <th>advertisement</th>\n",
       "      <th>action</th>\n",
       "    </tr>\n",
       "  </thead>\n",
       "  <tbody>\n",
       "    <tr>\n",
       "      <th>0</th>\n",
       "      <td>B</td>\n",
       "      <td>1</td>\n",
       "    </tr>\n",
       "    <tr>\n",
       "      <th>1</th>\n",
       "      <td>B</td>\n",
       "      <td>1</td>\n",
       "    </tr>\n",
       "    <tr>\n",
       "      <th>2</th>\n",
       "      <td>A</td>\n",
       "      <td>0</td>\n",
       "    </tr>\n",
       "    <tr>\n",
       "      <th>3</th>\n",
       "      <td>B</td>\n",
       "      <td>0</td>\n",
       "    </tr>\n",
       "    <tr>\n",
       "      <th>4</th>\n",
       "      <td>A</td>\n",
       "      <td>1</td>\n",
       "    </tr>\n",
       "    <tr>\n",
       "      <th>5</th>\n",
       "      <td>A</td>\n",
       "      <td>0</td>\n",
       "    </tr>\n",
       "    <tr>\n",
       "      <th>6</th>\n",
       "      <td>B</td>\n",
       "      <td>0</td>\n",
       "    </tr>\n",
       "    <tr>\n",
       "      <th>7</th>\n",
       "      <td>A</td>\n",
       "      <td>1</td>\n",
       "    </tr>\n",
       "    <tr>\n",
       "      <th>8</th>\n",
       "      <td>B</td>\n",
       "      <td>0</td>\n",
       "    </tr>\n",
       "    <tr>\n",
       "      <th>9</th>\n",
       "      <td>A</td>\n",
       "      <td>0</td>\n",
       "    </tr>\n",
       "  </tbody>\n",
       "</table>\n",
       "</div>"
      ],
      "text/plain": [
       "  advertisement  action\n",
       "0             B       1\n",
       "1             B       1\n",
       "2             A       0\n",
       "3             B       0\n",
       "4             A       1\n",
       "5             A       0\n",
       "6             B       0\n",
       "7             A       1\n",
       "8             B       0\n",
       "9             A       0"
      ]
     },
     "execution_count": 69,
     "metadata": {},
     "output_type": "execute_result"
    }
   ],
   "source": [
    "## Importing the data \n",
    "\n",
    "df = pd.read_csv(\"/Users/snigdhacheekoty/Documents/GitHub/AB_Testing/advertisement_clicks.csv\")\n",
    "df.head(10)"
   ]
  },
  {
   "cell_type": "code",
   "execution_count": 70,
   "metadata": {},
   "outputs": [
    {
     "data": {
      "text/html": [
       "<div>\n",
       "<style scoped>\n",
       "    .dataframe tbody tr th:only-of-type {\n",
       "        vertical-align: middle;\n",
       "    }\n",
       "\n",
       "    .dataframe tbody tr th {\n",
       "        vertical-align: top;\n",
       "    }\n",
       "\n",
       "    .dataframe thead th {\n",
       "        text-align: right;\n",
       "    }\n",
       "</style>\n",
       "<table border=\"1\" class=\"dataframe\">\n",
       "  <thead>\n",
       "    <tr style=\"text-align: right;\">\n",
       "      <th></th>\n",
       "      <th>advertisement</th>\n",
       "      <th>action</th>\n",
       "    </tr>\n",
       "  </thead>\n",
       "  <tbody>\n",
       "    <tr>\n",
       "      <th>1990</th>\n",
       "      <td>A</td>\n",
       "      <td>1</td>\n",
       "    </tr>\n",
       "    <tr>\n",
       "      <th>1991</th>\n",
       "      <td>A</td>\n",
       "      <td>0</td>\n",
       "    </tr>\n",
       "    <tr>\n",
       "      <th>1992</th>\n",
       "      <td>A</td>\n",
       "      <td>0</td>\n",
       "    </tr>\n",
       "    <tr>\n",
       "      <th>1993</th>\n",
       "      <td>A</td>\n",
       "      <td>0</td>\n",
       "    </tr>\n",
       "    <tr>\n",
       "      <th>1994</th>\n",
       "      <td>A</td>\n",
       "      <td>1</td>\n",
       "    </tr>\n",
       "    <tr>\n",
       "      <th>1995</th>\n",
       "      <td>A</td>\n",
       "      <td>0</td>\n",
       "    </tr>\n",
       "    <tr>\n",
       "      <th>1996</th>\n",
       "      <td>A</td>\n",
       "      <td>0</td>\n",
       "    </tr>\n",
       "    <tr>\n",
       "      <th>1997</th>\n",
       "      <td>A</td>\n",
       "      <td>0</td>\n",
       "    </tr>\n",
       "    <tr>\n",
       "      <th>1998</th>\n",
       "      <td>A</td>\n",
       "      <td>1</td>\n",
       "    </tr>\n",
       "    <tr>\n",
       "      <th>1999</th>\n",
       "      <td>A</td>\n",
       "      <td>0</td>\n",
       "    </tr>\n",
       "  </tbody>\n",
       "</table>\n",
       "</div>"
      ],
      "text/plain": [
       "     advertisement  action\n",
       "1990             A       1\n",
       "1991             A       0\n",
       "1992             A       0\n",
       "1993             A       0\n",
       "1994             A       1\n",
       "1995             A       0\n",
       "1996             A       0\n",
       "1997             A       0\n",
       "1998             A       1\n",
       "1999             A       0"
      ]
     },
     "execution_count": 70,
     "metadata": {},
     "output_type": "execute_result"
    }
   ],
   "source": [
    "df.tail(10)"
   ]
  },
  {
   "cell_type": "code",
   "execution_count": 71,
   "metadata": {},
   "outputs": [],
   "source": [
    "## We need to create a numpy array with columns: click, no_click and rows: Groups A and B\n",
    "a = df[df['advertisement'] == 'A']\n",
    "b = df[df['advertisement'] == 'B']\n",
    "a = a[\"action\"]\n",
    "b = b[\"action\"]\n",
    "\n",
    "\n",
    "#aggregating the click and no-click values\n",
    "A_click = a.sum()\n",
    "A_noclick = a.size - a.sum()\n",
    "B_click = b.sum()\n",
    "B_noclick = b.size - b.sum()\n",
    "\n",
    "# Numpy array for generating a contingency table\n",
    "T = np.array([[A_click,A_noclick], [B_click, B_noclick]])"
   ]
  },
  {
   "cell_type": "code",
   "execution_count": 73,
   "metadata": {},
   "outputs": [
    {
     "name": "stdout",
     "output_type": "stream",
     "text": [
      "(10.332683816299898, 0.0013069502732125406, 1, array([[338., 662.],\n",
      "       [338., 662.]]))\n"
     ]
    }
   ],
   "source": [
    "## Printing the Chi-Test Statistic, p-value, degrees of freedom in the same order\n",
    "print(get_p_value(T))\n"
   ]
  },
  {
   "cell_type": "code",
   "execution_count": null,
   "metadata": {},
   "outputs": [],
   "source": [
    "# CONCLUSION: Since the p-value < Significance Level, the difference of CTR's between advertisements A and B....\n",
    "# ..... are statistically significant!"
   ]
  },
  {
   "cell_type": "code",
   "execution_count": null,
   "metadata": {},
   "outputs": [],
   "source": []
  }
 ],
 "metadata": {
  "kernelspec": {
   "display_name": "Python 3",
   "language": "python",
   "name": "python3"
  },
  "language_info": {
   "codemirror_mode": {
    "name": "ipython",
    "version": 3
   },
   "file_extension": ".py",
   "mimetype": "text/x-python",
   "name": "python",
   "nbconvert_exporter": "python",
   "pygments_lexer": "ipython3",
   "version": "3.7.6"
  }
 },
 "nbformat": 4,
 "nbformat_minor": 4
}
