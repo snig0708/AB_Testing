{
 "cells": [
  {
   "cell_type": "code",
   "execution_count": null,
   "metadata": {},
   "outputs": [],
   "source": [
    "## Small Exercise on implementing t-test using python"
   ]
  },
  {
   "cell_type": "code",
   "execution_count": 2,
   "metadata": {},
   "outputs": [],
   "source": [
    "import numpy as np\n",
    "from scipy import stats"
   ]
  },
  {
   "cell_type": "code",
   "execution_count": 11,
   "metadata": {},
   "outputs": [
    {
     "name": "stdout",
     "output_type": "stream",
     "text": [
      "t-statistic: 4.00217553774749 \n",
      " p-value: 0.0008357699212941938\n"
     ]
    }
   ],
   "source": [
    "## Method-1: Writing our own functions\n",
    "\n",
    "\n",
    "# Generating data\n",
    "N = 10 \n",
    "a = np.random.randn(N) +2\n",
    "b = np.random.randn(N)\n",
    "\n",
    "\n",
    "# Variance\n",
    "var_a = a.var(ddof = 1)  #ddof = 1 because we want unbiased estimate of variance (so, N-1)\n",
    "var_b = b.var(ddof = 1)\n",
    "s = np.sqrt((var_a + var_b)/2) # pooled standard deviation\n",
    "t = (a.mean() - b.mean())/ (s * np.sqrt(2.0/N)) # t- test statistic\n",
    "df = (2*N) - 2 # degrees of freedom\n",
    "p = 1 - stats.t.cdf(t, df = df)\n",
    "\n",
    "\n",
    "print(\"t-statistic:\", t, \"\\n p-value:\", 2*p)"
   ]
  },
  {
   "cell_type": "code",
   "execution_count": 12,
   "metadata": {},
   "outputs": [
    {
     "name": "stdout",
     "output_type": "stream",
     "text": [
      "t-statistic: 4.00217553774749 \n",
      " p-value: 0.0008357699212942242\n"
     ]
    }
   ],
   "source": [
    "## Method-2: Using built-in functions from scipy\n",
    "\n",
    "\n",
    "\n",
    "t2, p2 = stats.ttest_ind(a,b)\n",
    "\n",
    "\n",
    "print(\"t-statistic:\", t2, \"\\n p-value:\", p2)"
   ]
  },
  {
   "cell_type": "code",
   "execution_count": null,
   "metadata": {},
   "outputs": [],
   "source": []
  },
  {
   "cell_type": "code",
   "execution_count": null,
   "metadata": {},
   "outputs": [],
   "source": []
  },
  {
   "cell_type": "code",
   "execution_count": null,
   "metadata": {},
   "outputs": [],
   "source": [
    "\n"
   ]
  },
  {
   "cell_type": "code",
   "execution_count": null,
   "metadata": {},
   "outputs": [],
   "source": []
  }
 ],
 "metadata": {
  "kernelspec": {
   "display_name": "Python 3",
   "language": "python",
   "name": "python3"
  },
  "language_info": {
   "codemirror_mode": {
    "name": "ipython",
    "version": 3
   },
   "file_extension": ".py",
   "mimetype": "text/x-python",
   "name": "python",
   "nbconvert_exporter": "python",
   "pygments_lexer": "ipython3",
   "version": "3.7.6"
  }
 },
 "nbformat": 4,
 "nbformat_minor": 4
}
